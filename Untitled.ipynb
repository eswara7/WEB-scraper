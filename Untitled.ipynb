{
 "cells": [
  {
   "cell_type": "code",
   "execution_count": 1,
   "id": "93cf8dda",
   "metadata": {},
   "outputs": [
    {
     "name": "stdout",
     "output_type": "stream",
     "text": [
      "<div class=\"pv-text-details__left-panel pv-text-details__left-panel--full-width\">\n",
      "<div>\n",
      "<h1 class=\"text-heading-xlarge inline t-24 v-align-middle break-words\">Harkirat Singh</h1>\n",
      "<!-- --><!-- --><!-- --><!-- --> </div>\n",
      "<!-- --> <div class=\"text-body-medium break-words\" data-generated-suggestion-target=\"urn:li:fsu_profileActionDelegate:-992541135\">\n",
      "      Working with WebRTC \n",
      "    </div>\n",
      "<!-- --><!-- --><!-- --> </div>\n",
      "Name --> Harkirat Singh \n",
      "Works At --> Working with WebRTC\n"
     ]
    }
   ],
   "source": [
    "from selenium import webdriver\n",
    "from selenium.webdriver.common.by import By\n",
    "from bs4 import BeautifulSoup\n",
    "import time\n",
    "import json\n",
    "driver = webdriver.Chrome()\n",
    "driver.get(\"https://linkedin.com\")\n",
    "time.sleep(2)\n",
    "username = driver.find_element(By.ID, \"session_key\")\n",
    "username.send_keys(\"eswararaolanda10@gmail.com\")\n",
    "pword = driver.find_element(By.ID, \"session_password\")\n",
    "pword.send_keys(\"eswarhere\")\n",
    "sign_in_button=driver.find_element(By.XPATH,'//*[@type=\"submit\"]')\n",
    "sign_in_button.click()\n",
    "profile_url = \"https://www.linkedin.com/in/kirat-li/\"\n",
    "driver.get(profile_url)\n",
    "src = driver.page_source\n",
    "soup = BeautifulSoup(src, 'lxml')\n",
    "intro = soup.find('div', {'class': 'pv-text-details__left-panel'})\n",
    "print(intro)\n",
    "name_loc = intro.find(\"h1\")\n",
    "name = name_loc.get_text().strip()\n",
    "works_at_loc = intro.find(\"div\", {'class': 'text-body-medium'})\n",
    "works_at = works_at_loc.get_text().strip()\n",
    "print(\"Name -->\", name,\"\\nWorks At -->\", works_at)\n",
    "profile_info = {\n",
    "    \"name\": name,\n",
    "    \"works_at\": works_at\n",
    "}\n",
    "with open('profile_info.json', 'w', encoding='utf-8') as json_file:\n",
    "    json.dump(profile_info, json_file)"
   ]
  },
  {
   "cell_type": "code",
   "execution_count": null,
   "id": "c8c2efb1",
   "metadata": {},
   "outputs": [],
   "source": []
  }
 ],
 "metadata": {
  "kernelspec": {
   "display_name": "Python 3 (ipykernel)",
   "language": "python",
   "name": "python3"
  },
  "language_info": {
   "codemirror_mode": {
    "name": "ipython",
    "version": 3
   },
   "file_extension": ".py",
   "mimetype": "text/x-python",
   "name": "python",
   "nbconvert_exporter": "python",
   "pygments_lexer": "ipython3",
   "version": "3.10.9"
  }
 },
 "nbformat": 4,
 "nbformat_minor": 5
}
